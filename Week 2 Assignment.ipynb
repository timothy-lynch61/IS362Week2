{
 "cells": [
  {
   "cell_type": "markdown",
   "metadata": {},
   "source": [
    "\n",
    "# Week 2 Assignment\n",
    "User: Tim Lynch <br>\n",
    "Professor: Charles Pak <br>\n",
    "Assignment: Week 2\n",
    "\n",
    "\n",
    "__For this weeks assignment we were supposed to list something challenging about Data Structures.__ \n",
    "\n",
    "So far my biggest problem has been understanding that the information given in the Panda's text book isn't the full list of examples. For example, most of the examples in the book for DataFrames only lists 2 columns when in fact you can list way more than that. This caused me issues for the first project, as I thought, I would be constrained by just 2 columns.\n",
    "\n",
    "It would be more beneficial if the book owner listed different types of examples instead of just sticking to the default that I have found in most python learning material. \n",
    "\n",
    "For that reason below you will see 3 examples. The first one will be an example of Panda's Series. The second and third examples will be DataFrames but the first one will just have 2 columns, and the next example will have more than 2.I also import numpy to pull random arrays.<br><br>\n",
    "\n",
    "\n",
    "__Panda's Series__"
   ]
  },
  {
   "cell_type": "code",
   "execution_count": null,
   "metadata": {},
   "outputs": [],
   "source": [
    "import numpy as np\n",
    "import pandas as pd\n",
    "\n",
    "my_numpy_array = np.random.rand(4)\n",
    "\n",
    "my_series = pd.Series(my_numpy_array, index = [\"First\", \"Second\", \"Third\", \"Fourth\"])\n",
    "\n",
    "print (my_series)"
   ]
  },
  {
   "cell_type": "markdown",
   "metadata": {},
   "source": [
    "__Data Frame with Two Columns and Three rows__\n"
   ]
  },
  {
   "cell_type": "code",
   "execution_count": 4,
   "metadata": {},
   "outputs": [
    {
     "name": "stdout",
     "output_type": "stream",
     "text": [
      "            First Column  Second Column\n",
      "First Row       0.361360       0.115891\n",
      "Second Row      0.118087       0.219423\n",
      "Third Row       0.305288       0.690863\n"
     ]
    }
   ],
   "source": [
    "import numpy as np\n",
    "import pandas as pd\n",
    "\n",
    "array = np.random.rand(3,2)\n",
    "df = pd.DataFrame(array)\n",
    "df.columns = [\"First Column\", \"Second Column\"]\n",
    "df.index = [\"First Row\", \"Second Row\", \"Third Row\"]\n",
    "print (df)"
   ]
  },
  {
   "cell_type": "markdown",
   "metadata": {},
   "source": [
    "__Data Frame with 4 Columns and 4 Rows__"
   ]
  },
  {
   "cell_type": "code",
   "execution_count": 6,
   "metadata": {},
   "outputs": [
    {
     "name": "stdout",
     "output_type": "stream",
     "text": [
      "            First Column  Second Column  Third Column  Fourth Column\n",
      "First Row       0.114780       0.387884      0.600886       0.290118\n",
      "Second Row      0.915718       0.882073      0.775162       0.645295\n",
      "Third Row       0.642412       0.112155      0.194969       0.433284\n",
      "Fourth Row      0.577683       0.499369      0.169324       0.938164\n"
     ]
    }
   ],
   "source": [
    "import numpy as np\n",
    "import pandas as pd\n",
    "\n",
    "array2 = np.random.rand(4,4)\n",
    "df2 = pd.DataFrame(array2)\n",
    "df2.columns = [\"First Column\", \"Second Column\", \"Third Column\", \"Fourth Column\"]\n",
    "df2.index = [\"First Row\", \"Second Row\",\"Third Row\", \"Fourth Row\"]\n",
    "print (df2)"
   ]
  }
 ],
 "metadata": {
  "celltoolbar": "Slideshow",
  "kernelspec": {
   "display_name": "Python 3",
   "language": "python",
   "name": "python3"
  },
  "language_info": {
   "codemirror_mode": {
    "name": "ipython",
    "version": 3
   },
   "file_extension": ".py",
   "mimetype": "text/x-python",
   "name": "python",
   "nbconvert_exporter": "python",
   "pygments_lexer": "ipython3",
   "version": "3.7.1"
  }
 },
 "nbformat": 4,
 "nbformat_minor": 2
}
